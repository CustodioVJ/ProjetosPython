{
 "metadata": {
  "language_info": {
   "codemirror_mode": {
    "name": "ipython",
    "version": 3
   },
   "file_extension": ".py",
   "mimetype": "text/x-python",
   "name": "python",
   "nbconvert_exporter": "python",
   "pygments_lexer": "ipython3",
   "version": "3.9.4"
  },
  "orig_nbformat": 2,
  "kernelspec": {
   "name": "python3",
   "display_name": "Python 3.9.4 64-bit",
   "metadata": {
    "interpreter": {
     "hash": "6ff2b6a8c199887330d38400c230fc185af08e9b570fc128bcd902273b11080c"
    }
   }
  }
 },
 "nbformat": 4,
 "nbformat_minor": 2,
 "cells": [
  {
   "cell_type": "code",
   "execution_count": 2,
   "metadata": {},
   "outputs": [
    {
     "output_type": "stream",
     "name": "stdout",
     "text": [
      "92f20dafc5e5ac1c66820903c492cc04\n",
      "92f20dafc5e5ac1c66820903c492cc04\n",
      "Senha correta!\n"
     ]
    }
   ],
   "source": [
    "import hashlib\n",
    "\n",
    "senha = 'senha1' #definição de senha\n",
    "\n",
    "#codificação da biblioteca\n",
    "a = senha.encode('latin1') \n",
    "\n",
    "#convertendo em hash\n",
    "hash_bd = hashlib.md5(a).hexdigest()\n",
    "print (hash_bd)\n",
    "\n",
    "userpass = input(\"Digite a senha: \") #entrada do usuario\n",
    "\n",
    "#codificação da biblioteca\n",
    "b = userpass.encode('latin1') \n",
    "\n",
    "#convertendo em hash\n",
    "hash_user = hashlib.md5(b).hexdigest()\n",
    "print (hash_user)\n",
    "if (hash_bd == hash_user):\n",
    "    print(\"Senha correta!\")\n",
    "else:\n",
    "    print('Senha incorreta!')"
   ]
  },
  {
   "cell_type": "code",
   "execution_count": null,
   "metadata": {},
   "outputs": [],
   "source": []
  }
 ]
}